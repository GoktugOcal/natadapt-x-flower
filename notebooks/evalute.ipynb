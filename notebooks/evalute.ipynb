{
 "cells": [
  {
   "cell_type": "code",
   "execution_count": 6,
   "metadata": {},
   "outputs": [],
   "source": [
    "import sys\n",
    " \n",
    "# setting path\n",
    "sys.path.append('../')\n",
    "\n",
    "from dotenv import load_dotenv\n",
    "load_dotenv()\n",
    "\n",
    "from argparse import ArgumentParser\n",
    "import os\n",
    "import time\n",
    "import math\n",
    "import torch\n",
    "import torch.nn as nn\n",
    "import torchvision.transforms as transforms\n",
    "import torchvision.datasets as datasets\n",
    "import torch.backends.cudnn as cudnn\n",
    "import pickle\n",
    "import numpy as np\n",
    "\n",
    "import nets as models\n",
    "import functions as fns"
   ]
  },
  {
   "cell_type": "code",
   "execution_count": 24,
   "metadata": {},
   "outputs": [],
   "source": [
    "class AverageMeter(object):\n",
    "    \"\"\"Computes and stores the average and current value\"\"\"\n",
    "    def __init__(self):\n",
    "        self.reset()\n",
    "\n",
    "    def reset(self):\n",
    "        self.val = 0\n",
    "        self.avg = 0\n",
    "        self.sum = 0\n",
    "        self.count = 0\n",
    "\n",
    "    def get_avg(self):\n",
    "        return self.avg\n",
    "    \n",
    "    def update(self, val, n=1):\n",
    "        self.val = val\n",
    "        self.sum += val * n\n",
    "        self.count += n\n",
    "        self.avg = self.sum / self.count\n",
    "        \n",
    "    \n",
    "def compute_accuracy(output, target):\n",
    "    output = output.argmax(dim=1)\n",
    "    acc = 0.0\n",
    "    acc = torch.sum(target == output).item()\n",
    "    acc = acc/output.size(0)*100\n",
    "    return acc\n",
    "\n",
    "def eval(test_loader, model):\n",
    "    batch_time = AverageMeter()\n",
    "    acc = AverageMeter()\n",
    "\n",
    "    # switch to eval mode\n",
    "    model.eval()\n",
    "\n",
    "    end = time.time()\n",
    "    for i, (images, target) in enumerate(test_loader):\n",
    "        images = images.to(DEVICE)\n",
    "        target = target.to(DEVICE)\n",
    "\n",
    "        if len(target.shape) > 1: target = target.reshape(len(target))\n",
    "        \n",
    "        output = model(images)\n",
    "        batch_acc = compute_accuracy(output, target)\n",
    "        acc.update(batch_acc, images.size(0))\n",
    "        batch_time.update(time.time() - end)\n",
    "        end = time.time()\n",
    "\n",
    "        # Update statistics\n",
    "        estimated_time_remained = batch_time.get_avg()*(len(test_loader)-i-1)\n",
    "        fns.update_progress(i, len(test_loader), \n",
    "            ESA='{:8.2f}'.format(estimated_time_remained)+'s',\n",
    "            acc='{:4.2f}'.format(float(batch_acc))\n",
    "            )\n",
    "    print()\n",
    "    print('Test accuracy: {:4.2f}% (time = {:8.2f}s)'.format(\n",
    "            float(acc.get_avg()), batch_time.get_avg()*len(test_loader)))\n",
    "    print('===================================================================')\n",
    "    return float(acc.get_avg())"
   ]
  },
  {
   "cell_type": "code",
   "execution_count": 21,
   "metadata": {},
   "outputs": [
    {
     "name": "stdout",
     "output_type": "stream",
     "text": [
      "Files already downloaded and verified\n",
      "Files already downloaded and verified\n"
     ]
    }
   ],
   "source": [
    "FILENAME = \"../projects/define_pretrained_fed_sim_NIID_alpha03/last_model.pth.tar\"\n",
    "DEVICE = \"cuda\"\n",
    "\n",
    "transform = transforms.Compose([\n",
    "        transforms.ToTensor(),\n",
    "        transforms.Normalize(mean=[0.485, 0.456, 0.406], std=[0.229, 0.224, 0.225]),\n",
    "    ])\n",
    "\n",
    "data = \"../data\"\n",
    "batch_size = 128\n",
    "# Data loader\n",
    "train_dataset = datasets.CIFAR10(root=data, train=True, download=True,\n",
    "    transform=transform)\n",
    "    \n",
    "train_loader = torch.utils.data.DataLoader(\n",
    "    train_dataset, batch_size=batch_size, shuffle=True,\n",
    "    pin_memory=True)\n",
    "test_dataset = datasets.CIFAR10(root=data, train=False, download=True,\n",
    "    transform=transform)\n",
    "test_loader = torch.utils.data.DataLoader(\n",
    "    test_dataset, batch_size=batch_size, shuffle=True,\n",
    "     pin_memory=True)"
   ]
  },
  {
   "cell_type": "code",
   "execution_count": 22,
   "metadata": {},
   "outputs": [
    {
     "name": "stdout",
     "output_type": "stream",
     "text": [
      "DataParallel(\n",
      "  (module): AlexNet_reduced(\n",
      "    (features): Sequential(\n",
      "      (0): Conv2d(3, 64, kernel_size=(3, 3), stride=(1, 1), padding=(1, 1))\n",
      "      (1): ReLU(inplace=True)\n",
      "      (2): MaxPool2d(kernel_size=3, stride=2, padding=0, dilation=1, ceil_mode=False)\n",
      "      (3): Conv2d(64, 192, kernel_size=(3, 3), stride=(1, 1), padding=(2, 2))\n",
      "      (4): ReLU(inplace=True)\n",
      "      (5): MaxPool2d(kernel_size=3, stride=2, padding=0, dilation=1, ceil_mode=False)\n",
      "      (6): Conv2d(192, 384, kernel_size=(3, 3), stride=(1, 1), padding=(1, 1))\n",
      "      (7): ReLU(inplace=True)\n",
      "      (8): Conv2d(384, 256, kernel_size=(3, 3), stride=(1, 1), padding=(1, 1))\n",
      "      (9): ReLU(inplace=True)\n",
      "      (10): Conv2d(256, 256, kernel_size=(3, 3), stride=(1, 1), padding=(1, 1))\n",
      "      (11): ReLU(inplace=True)\n",
      "      (12): MaxPool2d(kernel_size=3, stride=2, padding=0, dilation=1, ceil_mode=False)\n",
      "    )\n",
      "    (avgpool): AdaptiveAvgPool2d(output_size=(6, 6))\n",
      "    (classifier): Sequential(\n",
      "      (0): Dropout(p=0.5, inplace=False)\n",
      "      (1): Linear(in_features=9216, out_features=4096, bias=True)\n",
      "      (2): ReLU(inplace=True)\n",
      "      (3): Dropout(p=0.5, inplace=False)\n",
      "      (4): Linear(in_features=4096, out_features=4096, bias=True)\n",
      "      (5): ReLU(inplace=True)\n",
      "      (6): Linear(in_features=4096, out_features=10, bias=True)\n",
      "    )\n",
      "  )\n",
      ")\n"
     ]
    }
   ],
   "source": [
    "model = torch.load(FILENAME)\n",
    "model = model.to(DEVICE)\n",
    "print(model)"
   ]
  },
  {
   "cell_type": "code",
   "execution_count": 25,
   "metadata": {},
   "outputs": [
    {
     "name": "stdout",
     "output_type": "stream",
     "text": [
      "Percent: [##########] 99.74% (390/391) ESA:     0.00s, acc: 56.25\n",
      "Test accuracy: 42.88% (time =    12.21s)\n",
      "===================================================================\n",
      "Train accuracy: 42.88\n",
      "Percent: [##########] 98.73% (78/79) ESA:     0.00s, acc: 43.75\n",
      "Test accuracy: 42.90% (time =     2.43s)\n",
      "===================================================================\n",
      "Test accuracy: 42.9\n"
     ]
    }
   ],
   "source": [
    "best_acc = eval(train_loader, model)\n",
    "print('Train accuracy:', best_acc)\n",
    "    \n",
    "best_acc = eval(test_loader, model)\n",
    "print('Test accuracy:', best_acc)"
   ]
  },
  {
   "cell_type": "code",
   "execution_count": null,
   "metadata": {},
   "outputs": [],
   "source": []
  },
  {
   "cell_type": "markdown",
   "metadata": {},
   "source": [
    "# Server Data"
   ]
  },
  {
   "cell_type": "code",
   "execution_count": null,
   "metadata": {},
   "outputs": [],
   "source": []
  }
 ],
 "metadata": {
  "kernelspec": {
   "display_name": "easyfl",
   "language": "python",
   "name": "python3"
  },
  "language_info": {
   "codemirror_mode": {
    "name": "ipython",
    "version": 3
   },
   "file_extension": ".py",
   "mimetype": "text/x-python",
   "name": "python",
   "nbconvert_exporter": "python",
   "pygments_lexer": "ipython3",
   "version": "3.10.12"
  }
 },
 "nbformat": 4,
 "nbformat_minor": 2
}
