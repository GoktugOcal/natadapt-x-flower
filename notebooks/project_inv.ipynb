{
 "cells": [
  {
   "cell_type": "code",
   "execution_count": 46,
   "metadata": {},
   "outputs": [],
   "source": [
    "import numpy as np\n",
    "import pandas as pd\n",
    "import json\n",
    "from datetime import datetime, timedelta"
   ]
  },
  {
   "cell_type": "code",
   "execution_count": 44,
   "metadata": {},
   "outputs": [
    {
     "name": "stdout",
     "output_type": "stream",
     "text": [
      "Client 0 : 1:01:54.833333\n",
      "Client 1 : 0:23:59.416667\n",
      "Client 2 : 0:48:27.416667\n",
      "Client 3 : 1:14:01.727273\n",
      "Client 4 : 1:00:15.833333\n",
      "Client 5 : 1:06:13.916667\n",
      "Client 6 : 0:38:14.166667\n",
      "Client 7 : 0:49:43.833333\n",
      "Client 8 : 0:16:53.750000\n",
      "Client 9 : 2:37:32.818182\n",
      "Client 10 : 0:55:27.083333\n",
      "Client 11 : 0:35:54.083333\n",
      "Client 12 : 0:26:15.666667\n",
      "Client 13 : 0:41:45.666667\n",
      "Client 14 : 0:36:04.666667\n",
      "Client 15 : 0:25:34.166667\n",
      "Client 16 : 1:03:37.916667\n",
      "Client 17 : 0:53:06.333333\n",
      "Client 18 : 0:50:01.750000\n",
      "Client 19 : 0:17:40.583333\n"
     ]
    }
   ],
   "source": [
    "for client_id in range(20):\n",
    "\n",
    "    data = open(f\"../projects/32_pure_test_NIID_a01_20c_alexnet_2/client_{client_id}/logs_debug.txt\", \"r\").read()\n",
    "\n",
    "    data_str = [line for line in data.split(\"\\n\") if (\"Fine\" in line) and (\"Epoch\" not in line)]\n",
    "\n",
    "    dts = []\n",
    "    DT_FORMAT = \"%Y-%m-%d %H:%M:%S\"\n",
    "    for idx in range(len(data_str)):\n",
    "        line = data_str[idx]\n",
    "        if \"started.\" in line:\n",
    "            try:\n",
    "                ended = data_str[idx + 1]\n",
    "                s_date = datetime.strptime(line.split(\" INFO\")[0], DT_FORMAT)\n",
    "                e_date = datetime.strptime(ended.split(\" INFO\")[0], DT_FORMAT)\n",
    "                # print((e_date - s_date).seconds)\n",
    "                # print(e_date - s_date)\n",
    "                dts.append(e_date - s_date)\n",
    "            except:\n",
    "                pass\n",
    "        \n",
    "    td = sum(dts, timedelta()) / len(dts)\n",
    "    print(f\"Client {client_id} : {str(td)}\")"
   ]
  },
  {
   "cell_type": "code",
   "execution_count": 70,
   "metadata": {},
   "outputs": [
    {
     "name": "stdout",
     "output_type": "stream",
     "text": [
      "Client 0 : 4208\n",
      "[[0, 774], [2, 1], [6, 75], [7, 3358]]\n",
      "Client 1 : 813\n",
      "[[2, 59], [7, 4], [8, 750]]\n",
      "Client 2 : 3468\n",
      "[[0, 784], [3, 607], [4, 905], [5, 1172]]\n",
      "Client 3 : 4668\n",
      "[[2, 1355], [4, 70], [5, 1400], [6, 6], [9, 1837]]\n",
      "Client 4 : 3541\n",
      "[[0, 3], [1, 1553], [3, 135], [4, 7], [6, 49], [8, 1794]]\n",
      "Client 5 : 4370\n",
      "[[0, 31], [1, 1], [2, 182], [4, 566], [5, 82], [8, 1], [9, 3507]]\n",
      "Client 6 : 1992\n",
      "[[1, 1], [7, 1972], [8, 19]]\n",
      "Client 7 : 3254\n",
      "[[1, 31], [2, 10], [4, 659], [8, 2015], [9, 539]]\n",
      "Client 8 : 710\n",
      "[[0, 149], [1, 15], [2, 37], [3, 356], [5, 66], [7, 87]]\n",
      "Client 9 : 8577\n",
      "[[1, 2785], [2, 1], [3, 7], [6, 5784]]\n",
      "Client 10 : 3205\n",
      "[[0, 5], [1, 541], [2, 167], [4, 2492]]\n",
      "Client 11 : 1822\n",
      "[[2, 1719], [5, 2], [7, 1], [9, 100]]\n",
      "Client 12 : 1378\n",
      "[[0, 1], [1, 209], [2, 3], [4, 45], [5, 31], [7, 536], [8, 553]]\n",
      "Client 13 : 2548\n",
      "[[1, 2], [2, 2283], [3, 7], [5, 227], [6, 20], [9, 9]]\n",
      "Client 14 : 2326\n",
      "[[0, 438], [1, 659], [2, 1], [4, 1135], [5, 44], [6, 1], [7, 41], [9, 7]]\n",
      "Client 15 : 1740\n",
      "[[0, 602], [1, 73], [3, 96], [4, 120], [5, 1], [8, 848]]\n",
      "Client 16 : 4495\n",
      "[[1, 127], [2, 84], [3, 4284]]\n",
      "Client 17 : 3041\n",
      "[[1, 2], [3, 1], [5, 2974], [6, 64]]\n",
      "Client 18 : 3122\n",
      "[[0, 2948], [3, 174]]\n",
      "Client 19 : 722\n",
      "[[0, 265], [1, 1], [2, 98], [3, 333], [4, 1], [5, 1], [6, 1], [7, 1], [8, 20], [9, 1]]\n"
     ]
    }
   ],
   "source": [
    "conf = json.load(open(\"../data/32_Cifar10_NIID_20c_a01/config.json\", \"r\"))\n",
    "conf = json.load(open(\"../projects/single_client_9_fed_sim_NIID_alpha01/data/config.json\", \"r\"))\n",
    "\n",
    "idx = 0\n",
    "for client in conf['Size of samples for labels in clients']:\n",
    "    counts = np.sum(np.asarray(client), axis=0)[1]\n",
    "    print(f\"Client {idx} : {counts}\")\n",
    "    print(client)\n",
    "    idx +=1"
   ]
  },
  {
   "cell_type": "code",
   "execution_count": 71,
   "metadata": {},
   "outputs": [
    {
     "name": "stdout",
     "output_type": "stream",
     "text": [
      "Client 0 : 4208\n",
      "[[0, 774], [2, 1], [6, 75], [7, 3358]]\n",
      "Client 2 : 3468\n",
      "[[0, 784], [3, 607], [4, 905], [5, 1172]]\n",
      "Client 3 : 4668\n",
      "[[2, 1355], [4, 70], [5, 1400], [6, 6], [9, 1837]]\n",
      "Client 4 : 3541\n",
      "[[0, 3], [1, 1553], [3, 135], [4, 7], [6, 49], [8, 1794]]\n",
      "Client 5 : 4370\n",
      "[[0, 31], [1, 1], [2, 182], [4, 566], [5, 82], [8, 1], [9, 3507]]\n",
      "Client 7 : 3254\n",
      "[[1, 31], [2, 10], [4, 659], [8, 2015], [9, 539]]\n",
      "Client 9 : 8577\n",
      "[[1, 2785], [2, 1], [3, 7], [6, 5784]]\n",
      "Client 10 : 3205\n",
      "[[0, 5], [1, 541], [2, 167], [4, 2492]]\n",
      "Client 13 : 2548\n",
      "[[1, 2], [2, 2283], [3, 7], [5, 227], [6, 20], [9, 9]]\n",
      "Client 14 : 2326\n",
      "[[0, 438], [1, 659], [2, 1], [4, 1135], [5, 44], [6, 1], [7, 41], [9, 7]]\n",
      "Client 16 : 4495\n",
      "[[1, 127], [2, 84], [3, 4284]]\n",
      "Client 17 : 3041\n",
      "[[1, 2], [3, 1], [5, 2974], [6, 64]]\n",
      "Client 18 : 3122\n",
      "[[0, 2948], [3, 174]]\n"
     ]
    },
    {
     "data": {
      "image/png": "[encoded data removed]",
      "text/plain": [
       "<Figure size 640x480 with 1 Axes>"
      ]
     },
     "metadata": {},
     "output_type": "display_data"
    }
   ],
   "source": [
    "# conf = json.load(open(\"../data/Cifar10_NIID_a01_140c/config.json\", \"r\"))\n",
    "\n",
    "idx = 0\n",
    "counts = []\n",
    "for client in conf['Size of samples for labels in clients']:\n",
    "    count = np.sum(np.asarray(client), axis=0)[1]\n",
    "    counts.append(count)\n",
    "    if count > 2000:\n",
    "        print(f\"Client {idx} : {count}\")\n",
    "        print(client)\n",
    "    idx +=1\n",
    "\n",
    "import matplotlib.pyplot as plt\n",
    "\n",
    "h = counts\n",
    "plt.bar(np.arange(len(h)),h)\n",
    "plt.show()"
   ]
  },
  {
   "cell_type": "code",
   "execution_count": 63,
   "metadata": {},
   "outputs": [
    {
     "data": {
      "image/png": "[encoded data removed]",
      "text/plain": [
       "<Figure size 640x480 with 1 Axes>"
      ]
     },
     "metadata": {},
     "output_type": "display_data"
    }
   ],
   "source": []
  },
  {
   "cell_type": "code",
   "execution_count": null,
   "metadata": {},
   "outputs": [],
   "source": []
  },
  {
   "cell_type": "code",
   "execution_count": null,
   "metadata": {},
   "outputs": [],
   "source": []
  },
  {
   "cell_type": "code",
   "execution_count": null,
   "metadata": {},
   "outputs": [],
   "source": []
  }
 ],
 "metadata": {
  "kernelspec": {
   "display_name": "easyfl",
   "language": "python",
   "name": "python3"
  },
  "language_info": {
   "codemirror_mode": {
    "name": "ipython",
    "version": 3
   },
   "file_extension": ".py",
   "mimetype": "text/x-python",
   "name": "python",
   "nbconvert_exporter": "python",
   "pygments_lexer": "ipython3",
   "version": "3.10.12"
  }
 },
 "nbformat": 4,
 "nbformat_minor": 2
}
